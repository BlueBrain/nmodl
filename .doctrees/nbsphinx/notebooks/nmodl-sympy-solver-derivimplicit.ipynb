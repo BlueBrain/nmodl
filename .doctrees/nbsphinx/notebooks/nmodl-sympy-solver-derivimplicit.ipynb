{
 "cells": [
  {
   "cell_type": "markdown",
   "metadata": {},
   "source": [
    "### NMODL SympySolver - derivimplicit\n",
    "\n",
    "This notebook describes the implementation of the `derivimplicit` part of the `SympySolverVisitor`, which solves the systems of ODEs defined in `DERIVATIVE` blocks when these ODEs are *nonlinear*.\n",
    "\n",
    "For a higher level overview of the approach to solving ODEs in NMODL, please see the [nmodl-odes-overview](nmodl-odes-overview.ipynb) notebook. \n",
    "\n",
    "For a more general tutorial on using the NMODL python interface, please see the [tutorial notebook](nmodl-python-tutorial.ipynb).\n",
    "\n",
    "***\n",
    "\n",
    "#### Implementation\n",
    "The `SympySolverVisitor` for solver method `derivimplicit` does the following:\n",
    "\n",
    "* Construct the implicit Euler equations to convert the sysytem of ODEs to a `NONLINEAR` block\n",
    "* This `NONLINEAR` block is then solved as described in [nmodl-nonlinear-solver](nmodl-nonlinear-solver.ipynb)\n",
    "\n",
    "***\n",
    "\n",
    "#### Implementation Tests\n",
    "The unit tests may be helpful to understand what these functions are doing\n",
    "  - `SympySolverVisitor` tests are located in [test/visitor/sympy_solver.cpp](https://github.com/BlueBrain/nmodl/blob/master/test/visitor/sympy_solver.cpp), and tests involving the `derivimplicit` solver method have the tag \"`[derivimplicit]`\""
   ]
  },
  {
   "cell_type": "markdown",
   "metadata": {},
   "source": [
    "#### Examples"
   ]
  },
  {
   "cell_type": "code",
   "execution_count": 1,
   "metadata": {
    "execution": {
     "iopub.execute_input": "2024-08-29T14:31:22.994402Z",
     "iopub.status.busy": "2024-08-29T14:31:22.993838Z",
     "iopub.status.idle": "2024-08-29T14:31:23.804058Z",
     "shell.execute_reply": "2024-08-29T14:31:23.803225Z"
    }
   },
   "outputs": [],
   "source": [
    "%%capture\n",
    "! pip install nmodl"
   ]
  },
  {
   "cell_type": "code",
   "execution_count": 2,
   "metadata": {
    "execution": {
     "iopub.execute_input": "2024-08-29T14:31:23.807221Z",
     "iopub.status.busy": "2024-08-29T14:31:23.806993Z",
     "iopub.status.idle": "2024-08-29T14:31:23.838555Z",
     "shell.execute_reply": "2024-08-29T14:31:23.837859Z"
    }
   },
   "outputs": [],
   "source": [
    "import nmodl.dsl as nmodl\n",
    "\n",
    "\n",
    "def run_sympy_solver(mod_string, cse=False):\n",
    "    # parse NMDOL file (supplied as a string) into AST\n",
    "    driver = nmodl.NmodlDriver()\n",
    "    AST = driver.parse_string(mod_string)\n",
    "    # run SymtabVisitor to generate Symbol Table\n",
    "    nmodl.symtab.SymtabVisitor().visit_program(AST)\n",
    "    # constant folding, inlining & local variable renaming passes\n",
    "    nmodl.visitor.ConstantFolderVisitor().visit_program(AST)\n",
    "    nmodl.visitor.InlineVisitor().visit_program(AST)\n",
    "    nmodl.visitor.LocalVarRenameVisitor().visit_program(AST)\n",
    "    # run SympySolver visitor\n",
    "    nmodl.visitor.SympySolverVisitor().visit_program(AST)\n",
    "    # return new DERIVATIVE block\n",
    "    return nmodl.to_nmodl(\n",
    "        nmodl.visitor.AstLookupVisitor().lookup(\n",
    "            AST, nmodl.ast.AstNodeType.DERIVATIVE_BLOCK\n",
    "        )[0]\n",
    "    )"
   ]
  },
  {
   "cell_type": "markdown",
   "metadata": {},
   "source": [
    "##### Ex. 1\n",
    "2 coupled linear ODEs"
   ]
  },
  {
   "cell_type": "code",
   "execution_count": 3,
   "metadata": {
    "execution": {
     "iopub.execute_input": "2024-08-29T14:31:23.841600Z",
     "iopub.status.busy": "2024-08-29T14:31:23.841378Z",
     "iopub.status.idle": "2024-08-29T14:31:24.374718Z",
     "shell.execute_reply": "2024-08-29T14:31:24.373931Z"
    }
   },
   "outputs": [
    {
     "name": "stdout",
     "output_type": "stream",
     "text": [
      "DERIVATIVE states {\n",
      "    EIGEN_NEWTON_SOLVE[2]{\n",
      "        LOCAL old_mc, old_m\n",
      "    }{\n",
      "        old_mc = mc\n",
      "        old_m = m\n",
      "    }{\n",
      "        nmodl_eigen_x[0] = mc\n",
      "        nmodl_eigen_x[1] = m\n",
      "    }{\n",
      "        nmodl_eigen_f[0] = (-nmodl_eigen_x[0]+dt*(-nmodl_eigen_x[0]*a+nmodl_eigen_x[1]*b)+old_mc)/dt\n",
      "        nmodl_eigen_j[0] = -a-1/dt\n",
      "        nmodl_eigen_j[2] = b\n",
      "        nmodl_eigen_f[1] = (-nmodl_eigen_x[1]+dt*(nmodl_eigen_x[0]*a-nmodl_eigen_x[1]*b)+old_m)/dt\n",
      "        nmodl_eigen_j[1] = a\n",
      "        nmodl_eigen_j[3] = -b-1/dt\n",
      "    }{\n",
      "        mc = nmodl_eigen_x[0]\n",
      "        m = nmodl_eigen_x[1]\n",
      "    }{\n",
      "    }\n",
      "}\n"
     ]
    }
   ],
   "source": [
    "ex1 = \"\"\"\n",
    "BREAKPOINT {\n",
    "    SOLVE states METHOD sparse\n",
    "}\n",
    "STATE {\n",
    "    mc m\n",
    "}\n",
    "DERIVATIVE states {\n",
    "    mc' = -a*mc + b*m\n",
    "    m' = a*mc - b*m\n",
    "}\n",
    "\"\"\"\n",
    "print(run_sympy_solver(ex1, cse=True))"
   ]
  },
  {
   "cell_type": "markdown",
   "metadata": {},
   "source": [
    "##### Ex. 2\n",
    "5 coupled linear ODEs"
   ]
  },
  {
   "cell_type": "code",
   "execution_count": 4,
   "metadata": {
    "execution": {
     "iopub.execute_input": "2024-08-29T14:31:24.377541Z",
     "iopub.status.busy": "2024-08-29T14:31:24.377256Z",
     "iopub.status.idle": "2024-08-29T14:31:24.673130Z",
     "shell.execute_reply": "2024-08-29T14:31:24.672402Z"
    }
   },
   "outputs": [
    {
     "name": "stdout",
     "output_type": "stream",
     "text": [
      "DERIVATIVE ihkin {\n",
      "    EIGEN_NEWTON_SOLVE[5]{\n",
      "        LOCAL alpha, beta, k3p, k4, k1ca, k2, old_c1, old_o1, old_o2, old_p0, old_p1\n",
      "    }{\n",
      "        evaluate_fct(v, cai)\n",
      "        old_c1 = c1\n",
      "        old_o1 = o1\n",
      "        old_o2 = o2\n",
      "        old_p0 = p0\n",
      "        old_p1 = p1\n",
      "    }{\n",
      "        nmodl_eigen_x[0] = c1\n",
      "        nmodl_eigen_x[1] = o1\n",
      "        nmodl_eigen_x[2] = o2\n",
      "        nmodl_eigen_x[3] = p0\n",
      "        nmodl_eigen_x[4] = p1\n",
      "    }{\n",
      "        nmodl_eigen_f[0] = (-nmodl_eigen_x[0]+dt*(-nmodl_eigen_x[0]*alpha+nmodl_eigen_x[1]*beta)+old_c1)/dt\n",
      "        nmodl_eigen_j[0] = -alpha-1/dt\n",
      "        nmodl_eigen_j[5] = beta\n",
      "        nmodl_eigen_j[10] = 0\n",
      "        nmodl_eigen_j[15] = 0\n",
      "        nmodl_eigen_j[20] = 0\n",
      "        nmodl_eigen_f[1] = (-nmodl_eigen_x[1]+dt*(nmodl_eigen_x[0]*alpha-nmodl_eigen_x[1]*beta-nmodl_eigen_x[1]*k3p+nmodl_eigen_x[2]*k4)+old_o1)/dt\n",
      "        nmodl_eigen_j[1] = alpha\n",
      "        nmodl_eigen_j[6] = -beta-k3p-1/dt\n",
      "        nmodl_eigen_j[11] = k4\n",
      "        nmodl_eigen_j[16] = 0\n",
      "        nmodl_eigen_j[21] = 0\n",
      "        nmodl_eigen_f[2] = (-nmodl_eigen_x[2]+dt*(nmodl_eigen_x[1]*k3p-nmodl_eigen_x[2]*k4)+old_o2)/dt\n",
      "        nmodl_eigen_j[2] = 0\n",
      "        nmodl_eigen_j[7] = k3p\n",
      "        nmodl_eigen_j[12] = -k4-1/dt\n",
      "        nmodl_eigen_j[17] = 0\n",
      "        nmodl_eigen_j[22] = 0\n",
      "        nmodl_eigen_f[3] = (-nmodl_eigen_x[3]+dt*(-nmodl_eigen_x[3]*k1ca+nmodl_eigen_x[4]*k2)+old_p0)/dt\n",
      "        nmodl_eigen_j[3] = 0\n",
      "        nmodl_eigen_j[8] = 0\n",
      "        nmodl_eigen_j[13] = 0\n",
      "        nmodl_eigen_j[18] = -k1ca-1/dt\n",
      "        nmodl_eigen_j[23] = k2\n",
      "        nmodl_eigen_f[4] = (-nmodl_eigen_x[4]+dt*(nmodl_eigen_x[3]*k1ca-nmodl_eigen_x[4]*k2)+old_p1)/dt\n",
      "        nmodl_eigen_j[4] = 0\n",
      "        nmodl_eigen_j[9] = 0\n",
      "        nmodl_eigen_j[14] = 0\n",
      "        nmodl_eigen_j[19] = k1ca\n",
      "        nmodl_eigen_j[24] = -k2-1/dt\n",
      "    }{\n",
      "        c1 = nmodl_eigen_x[0]\n",
      "        o1 = nmodl_eigen_x[1]\n",
      "        o2 = nmodl_eigen_x[2]\n",
      "        p0 = nmodl_eigen_x[3]\n",
      "        p1 = nmodl_eigen_x[4]\n",
      "    }{\n",
      "    }\n",
      "}\n"
     ]
    }
   ],
   "source": [
    "ex2 = \"\"\"\n",
    "STATE {\n",
    "    c1 o1 o2 p0 p1\n",
    "}\n",
    "BREAKPOINT  {\n",
    "    SOLVE ihkin METHOD sparse\n",
    "}\n",
    "DERIVATIVE ihkin {\n",
    "    LOCAL alpha, beta, k3p, k4, k1ca, k2\n",
    "    evaluate_fct(v, cai)\n",
    "    c1' = (-1*(alpha*c1-beta*o1))\n",
    "    o1' = (1*(alpha*c1-beta*o1))+(-1*(k3p*o1-k4*o2))\n",
    "    o2' = (1*(k3p*o1-k4*o2))\n",
    "    p0' = (-1*(k1ca*p0-k2*p1))\n",
    "    p1' = (1*(k1ca*p0-k2*p1))\n",
    "}\n",
    "\"\"\"\n",
    "print(run_sympy_solver(ex2))"
   ]
  },
  {
   "cell_type": "code",
   "execution_count": null,
   "metadata": {},
   "outputs": [],
   "source": []
  }
 ],
 "metadata": {
  "kernelspec": {
   "display_name": "Python 3",
   "language": "python",
   "name": "python3"
  },
  "language_info": {
   "codemirror_mode": {
    "name": "ipython",
    "version": 3
   },
   "file_extension": ".py",
   "mimetype": "text/x-python",
   "name": "python",
   "nbconvert_exporter": "python",
   "pygments_lexer": "ipython3",
   "version": "3.8.18"
  }
 },
 "nbformat": 4,
 "nbformat_minor": 2
}
