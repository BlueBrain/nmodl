{
 "cells": [
  {
   "cell_type": "markdown",
   "metadata": {},
   "source": [
    "### NMODL SymPy Visitor Examples\n",
    "\n",
    "Some examples of the use of SymPy within NMODL to\n",
    "- solve differential equations to generate solutions for the CNEXP solver (`SympySolverVisitor`)\n",
    "- differentiate current expressions to generate CONDUCTANCE statements (`SympyConductanceVisitor`)\n",
    "\n",
    "Please see the notebook `nmodl-python-tutorial.ipynb` for a more general tutorial on using the NMODL python interface, including installation instructions."
   ]
  },
  {
   "cell_type": "code",
   "execution_count": 1,
   "metadata": {},
   "outputs": [],
   "source": [
    "import nmodl.dsl as nmodl\n",
    "from nmodl.dsl import visitor\n",
    "from nmodl.dsl import ast\n",
    "from nmodl.dsl import symtab"
   ]
  },
  {
   "cell_type": "markdown",
   "metadata": {},
   "source": [
    "hh.mod input file:"
   ]
  },
  {
   "cell_type": "code",
   "execution_count": 2,
   "metadata": {},
   "outputs": [],
   "source": [
    "channel = \"\"\"\n",
    "NEURON {\n",
    "    SUFFIX hh\n",
    "    USEION na READ ena WRITE ina\n",
    "    USEION k READ ek WRITE ik\n",
    "    NONSPECIFIC_CURRENT il\n",
    "    RANGE gnabar, gkbar, gl, el, gna, gk\n",
    "    RANGE minf, hinf, ninf, mtau, htau, ntau\n",
    "}\n",
    " \n",
    "UNITS {\n",
    "    (mV) = (millivolt)\n",
    "    (S) = (siemens)\n",
    "}\n",
    " \n",
    "PARAMETER {\n",
    "    gnabar = .12 (S/cm2)\n",
    "    gkbar = .036 (S/cm2)\n",
    "    gl = .0003 (S/cm2)\n",
    "    el = -54.3 (mV)\n",
    "    celsius\n",
    "}\n",
    " \n",
    "STATE {\n",
    "    m h n\n",
    "}\n",
    " \n",
    "ASSIGNED {\n",
    "    v (mV)\n",
    " \n",
    "    gna (S/cm2)\n",
    "    gk (S/cm2)\n",
    "    minf\n",
    "    hinf\n",
    "    ninf\n",
    "    mtau (ms)\n",
    "    htau (ms)\n",
    "    ntau (ms)\n",
    "}\n",
    " \n",
    "BREAKPOINT {\n",
    "    SOLVE states METHOD cnexp\n",
    "    gna = gnabar*m*m*m*h\n",
    "    ina = gna*(v - ena)\n",
    "    gk = gkbar*n*n*n*n\n",
    "    ik = gk*(v - ek)\n",
    "    il = gl*(v - el)\n",
    "}\n",
    " \n",
    "INITIAL {\n",
    "    rates(v, celsius)\n",
    "    m = minf\n",
    "    h = hinf\n",
    "    n = ninf\n",
    "}\n",
    " \n",
    "DERIVATIVE states {\n",
    "    rates(v, celsius)\n",
    "    m' = (minf-m)/mtau\n",
    "    h' = (hinf-h)/htau\n",
    "    n' = (ninf-n)/ntau\n",
    "}\n",
    " \n",
    "PROCEDURE rates(v, celsius)\n",
    "{\n",
    "    LOCAL  alpha, beta, sum, q10\n",
    " \n",
    "    q10 = 3^((celsius - 6.3)/10)\n",
    " \n",
    "    :\"m\" sodium activation system\n",
    "    alpha = .1 * vtrap(-(v+40),10)\n",
    "    beta =  4 * exp(-(v+65)/18)\n",
    "    sum = alpha + beta\n",
    "    mtau = 1/(q10*sum)\n",
    "    minf = alpha/sum\n",
    " \n",
    "    :\"h\" sodium inactivation system\n",
    "    alpha = .07 * exp(-(v+65)/20)\n",
    "    beta = 1 / (exp(-(v+35)/10) + 1)\n",
    "    sum = alpha + beta\n",
    "    htau = 1/(q10*sum)\n",
    "    hinf = alpha/sum\n",
    " \n",
    "    :\"n\" potassium activation system\n",
    "    alpha = .01*vtrap(-(v+55),10)\n",
    "    beta = .125*exp(-(v+65)/80)\n",
    "    sum = alpha + beta\n",
    "    ntau = 1/(q10*sum)\n",
    "    ninf = alpha/sum\n",
    "}\n",
    " \n",
    "FUNCTION vtrap(x,y) {\n",
    "    : use built in exprelr(z) = z/(exp(z)-1), which handles the z=0 case correctly\n",
    "    vtrap = y*exprelr(x/y)\n",
    "}\n",
    "\"\"\""
   ]
  },
  {
   "cell_type": "markdown",
   "metadata": {},
   "source": [
    "### ODE Solver example"
   ]
  },
  {
   "cell_type": "code",
   "execution_count": 3,
   "metadata": {},
   "outputs": [],
   "source": [
    "# parse NMDOL file\n",
    "driver = nmodl.Driver()\n",
    "driver.parse_string(channel)\n",
    "modast = driver.ast()\n",
    "lookup_visitor = visitor.AstLookupVisitor()"
   ]
  },
  {
   "cell_type": "code",
   "execution_count": 4,
   "metadata": {},
   "outputs": [
    {
     "name": "stdout",
     "output_type": "stream",
     "text": [
      "SOLVE states METHOD cnexp\n"
     ]
    }
   ],
   "source": [
    "# print solve method\n",
    "print(nmodl.to_nmodl(lookup_visitor.lookup(modast, ast.AstNodeType.SOLVE_BLOCK)[0]))"
   ]
  },
  {
   "cell_type": "code",
   "execution_count": 5,
   "metadata": {},
   "outputs": [
    {
     "name": "stdout",
     "output_type": "stream",
     "text": [
      "DERIVATIVE states {\n",
      "    rates(v, celsius)\n",
      "    m' = (minf-m)/mtau\n",
      "    h' = (hinf-h)/htau\n",
      "    n' = (ninf-n)/ntau\n",
      "}\n"
     ]
    }
   ],
   "source": [
    "# print DERIVATIVE block\n",
    "print(nmodl.to_nmodl(lookup_visitor.lookup(modast, ast.AstNodeType.DERIVATIVE_BLOCK)[0]))"
   ]
  },
  {
   "cell_type": "markdown",
   "metadata": {},
   "source": [
    "Run `SympySolverVisitor`, then print DERIVATIVE block again:"
   ]
  },
  {
   "cell_type": "code",
   "execution_count": 6,
   "metadata": {
    "scrolled": true
   },
   "outputs": [
    {
     "name": "stdout",
     "output_type": "stream",
     "text": [
      "DERIVATIVE states {\n",
      "    rates(v, celsius)\n",
      "    m = minf+(m-minf)*exp(-dt/mtau)\n",
      "    h = hinf+(h-hinf)*exp(-dt/htau)\n",
      "    n = ninf+(n-ninf)*exp(-dt/ntau)\n",
      "}\n"
     ]
    }
   ],
   "source": [
    "# first need to run SymtabVisitor to generate Symbol Table\n",
    "symv = symtab.SymtabVisitor()\n",
    "symv.visit_program(modast)\n",
    "# then we can run SympySolverVisitor\n",
    "sympy_solver_visitor = visitor.SympySolverVisitor()\n",
    "sympy_solver_visitor.visit_program(modast)\n",
    "# print DERIVATIVE block\n",
    "print(nmodl.to_nmodl(lookup_visitor.lookup(modast, ast.AstNodeType.DERIVATIVE_BLOCK)[0]))"
   ]
  },
  {
   "cell_type": "markdown",
   "metadata": {},
   "source": [
    "Repeat the process, but this time with the option `use_pade_approx` set to `True`.\n",
    "\n",
    "This returns the (1,1) Pade approximant to the analytic solution, which is correct to second order in `dt`"
   ]
  },
  {
   "cell_type": "code",
   "execution_count": 7,
   "metadata": {},
   "outputs": [
    {
     "name": "stdout",
     "output_type": "stream",
     "text": [
      "DERIVATIVE states {\n",
      "    rates(v, celsius)\n",
      "    m = (-dt*m+2*dt*minf+2*m*mtau)/(dt+2*mtau)\n",
      "    h = (-dt*h+2*dt*hinf+2*h*htau)/(dt+2*htau)\n",
      "    n = (-dt*n+2*dt*ninf+2*n*ntau)/(dt+2*ntau)\n",
      "}\n"
     ]
    }
   ],
   "source": [
    "# parse NMDOL file\n",
    "driver = nmodl.Driver()\n",
    "driver.parse_string(channel)\n",
    "modast = driver.ast()\n",
    "lookup_visitor = visitor.AstLookupVisitor()\n",
    "# first need to run SymtabVisitor to generate Symbol Table\n",
    "symv = symtab.SymtabVisitor()\n",
    "symv.visit_program(modast)\n",
    "# then we can run SympySolverVisitor\n",
    "sympy_solver_visitor = visitor.SympySolverVisitor(use_pade_approx=True)\n",
    "sympy_solver_visitor.visit_program(modast)\n",
    "# print DERIVATIVE block\n",
    "print(nmodl.to_nmodl(lookup_visitor.lookup(modast, ast.AstNodeType.DERIVATIVE_BLOCK)[0]))"
   ]
  },
  {
   "cell_type": "markdown",
   "metadata": {},
   "source": [
    "### CONDUCTANCE example"
   ]
  },
  {
   "cell_type": "code",
   "execution_count": 8,
   "metadata": {},
   "outputs": [],
   "source": [
    "# parse NMDOL file\n",
    "driver = nmodl.Driver()\n",
    "driver.parse_string(channel)\n",
    "modast = driver.ast()\n",
    "lookup_visitor = visitor.AstLookupVisitor()"
   ]
  },
  {
   "cell_type": "code",
   "execution_count": 9,
   "metadata": {},
   "outputs": [
    {
     "name": "stdout",
     "output_type": "stream",
     "text": [
      "USEION na READ ena WRITE ina\n",
      "USEION k READ ek WRITE ik\n"
     ]
    }
   ],
   "source": [
    "# print USEION and NONSPECIFIC current statements\n",
    "for node in lookup_visitor.lookup(modast, ast.AstNodeType.USEION or ast.AstNodeType.NONSPECIFIC):\n",
    "    print(nmodl.to_nmodl(node))"
   ]
  },
  {
   "cell_type": "code",
   "execution_count": 10,
   "metadata": {},
   "outputs": [
    {
     "name": "stdout",
     "output_type": "stream",
     "text": [
      "BREAKPOINT {\n",
      "    SOLVE states METHOD cnexp\n",
      "    gna = gnabar*m*m*m*h\n",
      "    ina = gna*(v-ena)\n",
      "    gk = gkbar*n*n*n*n\n",
      "    ik = gk*(v-ek)\n",
      "    il = gl*(v-el)\n",
      "}\n"
     ]
    }
   ],
   "source": [
    "# print BREAKPOINT\n",
    "print(nmodl.to_nmodl(lookup_visitor.lookup(modast, ast.AstNodeType.BREAKPOINT_BLOCK)[0]))"
   ]
  },
  {
   "cell_type": "markdown",
   "metadata": {},
   "source": [
    "BREAKPOINT block after running `SympyConductanceVisitor`:"
   ]
  },
  {
   "cell_type": "code",
   "execution_count": 11,
   "metadata": {},
   "outputs": [
    {
     "name": "stdout",
     "output_type": "stream",
     "text": [
      "BREAKPOINT {\n",
      "    CONDUCTANCE gna USEION na\n",
      "    CONDUCTANCE gl\n",
      "    CONDUCTANCE gk USEION k\n",
      "    SOLVE states METHOD cnexp\n",
      "    gna = gnabar*m*m*m*h\n",
      "    ina = gna*(v-ena)\n",
      "    gk = gkbar*n*n*n*n\n",
      "    ik = gk*(v-ek)\n",
      "    il = gl*(v-el)\n",
      "}\n"
     ]
    }
   ],
   "source": [
    "# first need to run SymtabVisitor to generate Symbol Table\n",
    "symv = symtab.SymtabVisitor()\n",
    "symv.visit_program(modast)\n",
    "# then we can run SympyConductanceVisitor\n",
    "sympy_conductance_visitor = visitor.SympyConductanceVisitor()\n",
    "sympy_conductance_visitor.visit_program(modast)\n",
    "# print BREAKPOINT block\n",
    "print(nmodl.to_nmodl(lookup_visitor.lookup(modast, ast.AstNodeType.BREAKPOINT_BLOCK)[0]))"
   ]
  }
 ],
 "metadata": {
  "kernelspec": {
   "display_name": "Python 3",
   "language": "python",
   "name": "python3"
  },
  "language_info": {
   "codemirror_mode": {
    "name": "ipython",
    "version": 3
   },
   "file_extension": ".py",
   "mimetype": "text/x-python",
   "name": "python",
   "nbconvert_exporter": "python",
   "pygments_lexer": "ipython3",
   "version": "3.7.2"
  }
 },
 "nbformat": 4,
 "nbformat_minor": 2
}
