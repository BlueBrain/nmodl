{
 "cells": [
  {
   "cell_type": "markdown",
   "metadata": {},
   "source": [
    "### NMODL Kinetic Scheme\n",
    "\n",
    "Some definitions of reaction kinetics & mass action laws that are relevant for how `KINETIC` blocks are translated into a system of ODEs in NMODL"
   ]
  },
  {
   "cell_type": "markdown",
   "metadata": {},
   "source": [
    "#### Reaction Kinetics\n",
    "\n",
    "- We consider a set of reaction species $A_j$, with corresponding Molar concentrations $Y_j$\n",
    "- They react according to a set of reaction equations:\n",
    "\n",
    "$$\\sum_j \\nu_{ij}^L A_j \\overset{k_i}{\\rightarrow} \\sum_j \\nu_{ij}^R A_j$$\n",
    "\n",
    "where\n",
    "- $k_i$ is the rate coefficient\n",
    "- $\\nu_{ij}^L$, $\\nu_{ij}^R$ are stochiometric coefficients - must be positive integers (including zero)\n",
    "***\n",
    "#### Law of Mass Action\n",
    "\n",
    "- This allows us to convert these reaction equations to a set of ODEs\n",
    "\n",
    "$$\\frac{dY_j}{dt} = \\sum_i \\Delta \\nu_{ij} r_i$$\n",
    "\n",
    "where $\\Delta \\nu_{ij} = \\nu_{ij}^R - \\nu_{ij}^L$, and\n",
    "$$r_i = k_i \\prod_j Y_j^{\\nu_{ij}^R}$$\n",
    "***"
   ]
  },
  {
   "cell_type": "markdown",
   "metadata": {},
   "source": [
    "#### KINETIC block format\n",
    "\n",
    "A reaction equation is specifed in the mod file as\n",
    "```\n",
    "~ A0 + 3A1 + 2A2 + ... <-> 2A0 + A1 + ... (kf, kb)\n",
    "```\n",
    "where\n",
    "- `A0` etc are the species $A_j$\n",
    "- the integer preceeding a species (with or without a space) is the corresponding stochiometric coefficient $\\nu_{ij}$ (by default 1 if not present)\n",
    "- `kf` is the forwards reaction rate $k^{(f)}_j$\n",
    "- `kb` is the backwards reaction rate $k^{(b)}_j$, i.e. the reaction rate for the same reaction with the LHS and RHS exchanged\n",
    "***\n",
    "We can convert these statements to a system of ODEs:\n",
    "$$\\frac{dY_j}{dt} = \\sum_i \\Delta \\nu_{ij} (r^{(f)}_i - r^{(b)}_i)$$\n",
    "\n",
    "where $\\Delta \\nu_{ij} = \\nu_{ij}^R - \\nu_{ij}^L$, and\n",
    "$$\n",
    "\\begin{align}\n",
    "r^{(f)}_i &= k^{(f)}_i \\prod_j Y_j^{\\nu_{ij}^{L}} \\\\\n",
    "r^{(b)}_i &= k^{(b)}_i \\prod_j Y_j^{\\nu_{ij}^{R}}\n",
    "\\end{align}\n",
    "$$\n",
    "***"
   ]
  },
  {
   "cell_type": "markdown",
   "metadata": {},
   "source": [
    "#### Example\n",
    "\n",
    "Given the following KINETIC statement\n",
    "```\n",
    "~ h <-> m (a,b)\n",
    "```\n",
    "We have 2 state variables, and 1 reaction statement, so \n",
    "- $i = \\{0\\}$\n",
    "- $j = \\{0, 1\\}$\n",
    "\n",
    "i.e. \n",
    "- the state vector $Y$ has 2 elements\n",
    "$$\n",
    "Y = \\left(\n",
    "\\begin{align}\n",
    "h \\\\\n",
    "m \n",
    "\\end{align}\n",
    "\\right)\n",
    "$$\n",
    "- the stochiometric coefficients are 1x2 matrices\n",
    "$$\n",
    "\\nu^L = \\left(\n",
    "\\begin{align}\n",
    "1 && 0\n",
    "\\end{align}\n",
    "\\right)\n",
    "$$\n",
    "$$\n",
    "\\nu^R = \\left(\n",
    "\\begin{align}\n",
    "0 && 1\n",
    "\\end{align}\n",
    "\\right)\n",
    "$$\n",
    "- the rate vectors contain 1 element:\n",
    "$$\n",
    "k^{(f)} = a\n",
    "$$\n",
    "$$\n",
    "k^{(b)} = b\n",
    "$$\n",
    "\n",
    "Using these we can construct the forwards and blackwards fluxes:\n",
    "$$\n",
    "r^{(f)} = a h\n",
    "$$\n",
    "$$\n",
    "r^{(b)} = b m\n",
    "$$\n",
    "and finally we find the ODEs in matrix form:\n",
    "$$\n",
    "\\frac{dY}{dt} =\n",
    "\\left(\n",
    "\\begin{align}\n",
    "-1 && 1\n",
    "\\end{align}\n",
    "\\right)\n",
    "(ah - bm)\n",
    "$$\n",
    "which in terms of the state variables can be written:\n",
    "$$\n",
    "\\begin{align}\n",
    "\\frac{dh}{dt} &= bm - ah \\\\\n",
    "\\frac{dm}{dt} &= ah - bm\n",
    "\\end{align}\n",
    "$$\n",
    "***"
   ]
  },
  {
   "cell_type": "markdown",
   "metadata": {},
   "source": [
    "#### [TODO] CONSERVE\n",
    "\n",
    "Converse statement allows specification of a conservation law, e.g.\n",
    "\n",
    "```\n",
    "CONSERVE h + m = 0\n",
    "```\n",
    "This can then be used to eliminate one of these variables from the set of ODEs, for example by removing the dmdt equation, and instead calculating m in terms of the algebraic relation above.\n",
    "***"
   ]
  },
  {
   "cell_type": "markdown",
   "metadata": {},
   "source": [
    "#### [TODO] fflux / bflux\n",
    "\n",
    "Directly after a kinetic statement, NEURON provides the fflux and bflux variable that can be referenced inside the mod file (!). Need to also provide this, and work out the implications for parsing the equations.\n",
    "Note it always refers to the fflux from the preceeding kinetic statement.\n",
    "***\n"
   ]
  },
  {
   "cell_type": "markdown",
   "metadata": {},
   "source": [
    "#### [TODO] inlining\n",
    "\n",
    "The usual issues about inlining function calls, e.g. when the rate is a function call.\n",
    "\n",
    "In principle also allowed for it to be a function of state variables, in which case vital to inline this information for the ODEs (although we could also just say that this is not supported, as not necessary for the user to write the mod file in this way, state variable dependence can always be written explicitly)\n",
    "***"
   ]
  },
  {
   "cell_type": "markdown",
   "metadata": {},
   "source": [
    "#### [TODO] flux\n",
    "\n",
    "Can also have a one-way reaction\n",
    "nc << (a) (check details)\n",
    "***"
   ]
  },
  {
   "cell_type": "code",
   "execution_count": null,
   "metadata": {},
   "outputs": [],
   "source": []
  }
 ],
 "metadata": {
  "kernelspec": {
   "display_name": "Python 3",
   "language": "python",
   "name": "python3"
  },
  "language_info": {
   "codemirror_mode": {
    "name": "ipython",
    "version": 3
   },
   "file_extension": ".py",
   "mimetype": "text/x-python",
   "name": "python",
   "nbconvert_exporter": "python",
   "pygments_lexer": "ipython3",
   "version": "3.7.2"
  }
 },
 "nbformat": 4,
 "nbformat_minor": 2
}
