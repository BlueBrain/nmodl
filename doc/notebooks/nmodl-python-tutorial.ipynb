{
 "cells": [
  {
   "cell_type": "markdown",
   "metadata": {},
   "source": [
    "### Visualization Library Setup"
   ]
  },
  {
   "cell_type": "code",
   "execution_count": null,
   "metadata": {},
   "outputs": [],
   "source": [
    "from IPython.display import display, Javascript, HTML\n",
    "import json"
   ]
  },
  {
   "cell_type": "code",
   "execution_count": null,
   "metadata": {},
   "outputs": [],
   "source": [
    "%%javascript\n",
    "require.config({\n",
    "    paths: {\n",
    "        d3: \"https://cdnjs.cloudflare.com/ajax/libs/d3/3.5.5/d3.min\"\n",
    "     }\n",
    "});"
   ]
  },
  {
   "cell_type": "code",
   "execution_count": null,
   "metadata": {},
   "outputs": [],
   "source": [
    "Javascript(filename='tree.js')"
   ]
  },
  {
   "cell_type": "code",
   "execution_count": null,
   "metadata": {},
   "outputs": [],
   "source": [
    "HTML(\"\"\"\n",
    "<style>\n",
    "\n",
    ".node {\n",
    "  cursor: pointer;\n",
    "}\n",
    "\n",
    ".node circle {\n",
    "  fill: #d49c9c;\n",
    "  stroke: #8c6666;\n",
    "  stroke-width: 1.5px;\n",
    "}\n",
    "\n",
    ".node text {\n",
    "  font-size: 11px !important;\n",
    "  font-family: sans-serif;\n",
    "  fill: #4545b5;\n",
    "}\n",
    "\n",
    ".link {\n",
    "  fill: none;\n",
    "  stroke: #efcece;\n",
    "  stroke: #efceed;\n",
    "  stroke-width: 2px;\n",
    "}\n",
    "\n",
    ".templink {\n",
    "  fill: none;\n",
    "  stroke: red;\n",
    "  stroke-width: 2px;\n",
    "}\n",
    "</style>\n",
    "\"\"\")"
   ]
  },
  {
   "cell_type": "markdown",
   "metadata": {},
   "source": [
    "\n",
    "## NMODL Python Interface Tutorial"
   ]
  },
  {
   "cell_type": "markdown",
   "metadata": {},
   "source": [
    "### Introduction\n",
    "\n",
    "NMODL is a code generation framework for NEURON Modeling Language. It is primarily designed to support optimised code generation backends for morphologically detailed neuron simulators. It provides high level Python interface that can be used for model introspection as well as performing various analysis on underlying model.\n",
    "\n",
    "The main goals of the NMODL framework are :\n",
    "\n",
    "* Support for full NMODL specification\n",
    "* Providing modular tools for lexing, parsing and analysis\n",
    "* Optimised code generation for modern architectures\n",
    "* Compatibility with exisiting simulators\n",
    "* Ability to implement new simulator backends with minimal efforts\n",
    "\n",
    "This tutorial provides introduction to python API with examples."
   ]
  },
  {
   "cell_type": "markdown",
   "metadata": {},
   "source": [
    "### Installation \n",
    "<a id='installation'></a> NMODL can be installed as CMake project or using python setuptools. See README.md for detailed installation instructions. For example :\n",
    "\n",
    "```bash\n",
    "python3 -m venv myenv\n",
    ". myenv/bin/activate\n",
    "pip3 install nmodl_source_directory/\n",
    "```\n",
    "\n",
    "With this you should have nmodl installed."
   ]
  },
  {
   "cell_type": "markdown",
   "metadata": {},
   "source": [
    "### Parsing Model And Constructing AST\n",
    "\n",
    "Once the NMODL is setup properly we should be able to import `nmodl` module :"
   ]
  },
  {
   "cell_type": "code",
   "execution_count": null,
   "metadata": {},
   "outputs": [],
   "source": [
    "import nmodl.dsl as nmodl"
   ]
  },
  {
   "cell_type": "markdown",
   "metadata": {},
   "source": [
    "If you see any issues, check the [installation section](#installation). Lets take an example of a channelCaDynamics :"
   ]
  },
  {
   "cell_type": "code",
   "execution_count": null,
   "metadata": {},
   "outputs": [],
   "source": [
    "channel = \"\"\"\n",
    "NEURON  {\n",
    "    SUFFIX CaDynamics\n",
    "    USEION ca READ ica WRITE cai\n",
    "    RANGE decay, gamma, minCai, depth\n",
    "}\n",
    "\n",
    "UNITS   {\n",
    "    (mV) = (millivolt)\n",
    "    (mA) = (milliamp)\n",
    "    FARADAY = (faraday) (coulombs)\n",
    "    (molar) = (1/liter)\n",
    "    (mM) = (millimolar)\n",
    "    (um)    = (micron)\n",
    "}\n",
    "\n",
    "PARAMETER   {\n",
    "    gamma = 0.05 : percent of free calcium (not buffered)\n",
    "    decay = 80 (ms) : rate of removal of calcium\n",
    "    depth = 0.1 (um) : depth of shell\n",
    "    minCai = 1e-4 (mM)\n",
    "}\n",
    "\n",
    "ASSIGNED    {ica (mA/cm2)}\n",
    "\n",
    "INITIAL {\n",
    "    cai = minCai\n",
    "}\n",
    "\n",
    "STATE   {\n",
    "    cai (mM)\n",
    "}\n",
    "\n",
    "BREAKPOINT  { SOLVE states METHOD cnexp }\n",
    "\n",
    "DERIVATIVE states   {\n",
    "    cai' = -(10000)*(ica*gamma/(2*FARADAY*depth)) - (cai - minCai)/decay\n",
    "}\n",
    "\n",
    "FUNCTION foo() {\n",
    "    LOCAL temp\n",
    "    foo = 1.0 + gamma\n",
    "}\n",
    "\"\"\""
   ]
  },
  {
   "cell_type": "markdown",
   "metadata": {},
   "source": [
    "Now we can parse any valid NMODL constructs using parsing interface. First, we have to create nmodl parser object using `nmodl::Driver` and then we can use `parse_string` method <a id='create-ast'></a>:"
   ]
  },
  {
   "cell_type": "code",
   "execution_count": null,
   "metadata": {},
   "outputs": [],
   "source": [
    "driver = nmodl.Driver()\n",
    "driver.parse_string(channel)"
   ]
  },
  {
   "cell_type": "markdown",
   "metadata": {},
   "source": [
    "The `parse_string` method will throw an exception with parsing error if input is invalid. Otherwise it returns `True` and internally creates [AST](https://en.wikipedia.org/wiki/Abstract_syntax_tree) object. We can access the AST using `ast()` method :"
   ]
  },
  {
   "cell_type": "code",
   "execution_count": null,
   "metadata": {},
   "outputs": [],
   "source": [
    "modast = driver.ast()"
   ]
  },
  {
   "cell_type": "markdown",
   "metadata": {},
   "source": [
    "If we simply print AST object, we can see JSON representation :"
   ]
  },
  {
   "cell_type": "code",
   "execution_count": null,
   "metadata": {},
   "outputs": [],
   "source": [
    "print ('%.100s' % modast)  # only first 100 characters\n",
    "import json\n",
    "json_data = json.loads(nmodl.to_json(modast, True))\n",
    "json_data_expand = json.loads(nmodl.to_json(modast, True, True))"
   ]
  },
  {
   "cell_type": "code",
   "execution_count": null,
   "metadata": {},
   "outputs": [],
   "source": [
    "Javascript(\"\"\"(function(element){\n",
    "                require(['draw_tree'], function(draw) { draw(element.get(0), %s) });\n",
    "           })(element);\"\"\" % json.dumps(json_data_expand) )"
   ]
  },
  {
   "cell_type": "markdown",
   "metadata": {},
   "source": [
    "### Querying AST object with Visitors\n",
    "\n",
    "One of the strength of NMODL python interface is access to inbuilt [Visitors](https://en.wikipedia.org/wiki/Visitor_pattern). One can perform different queries and analysis on AST using different visitors. Lets start with the examples of inbuilt visitors."
   ]
  },
  {
   "cell_type": "markdown",
   "metadata": {},
   "source": [
    "#### Lookup visitor\n",
    "\n",
    "As name suggest, lookup visitor allows to search different NMODL constructs in the AST. The `visitor` module provides access to inbuilt visitors. In order to use this visitor, we create an object of AstLookupVisitor :"
   ]
  },
  {
   "cell_type": "code",
   "execution_count": null,
   "metadata": {},
   "outputs": [],
   "source": [
    "from nmodl.dsl import visitor\n",
    "from nmodl.dsl import ast\n",
    "lookup_visitor = visitor.AstLookupVisitor()"
   ]
  },
  {
   "cell_type": "markdown",
   "metadata": {},
   "source": [
    "Assuming we have created AST object (as shown [here](#create-ast)), we can search for any NMODL construct in the AST using AstLookupVisitor. For example, to find out `STATE` block in the mod file, we can simply do:"
   ]
  },
  {
   "cell_type": "code",
   "execution_count": null,
   "metadata": {},
   "outputs": [],
   "source": [
    "states = lookup_visitor.lookup(modast, ast.AstNodeType.STATE_BLOCK)\n",
    "for state in states:\n",
    "    print (nmodl.to_nmodl(state))"
   ]
  },
  {
   "cell_type": "markdown",
   "metadata": {},
   "source": [
    "We have used `to_nmodl` helper function to print AST object in NMODL format. Note that the output of `to_nmodl` should be same as input except for comments (?, :, COMMENT). There are very few edge cases where the NMODL output could slightly differ and this is considered as bug. This is being addressed by testing entire [ModelDB](https://senselab.med.yale.edu/modeldb/) database.\n",
    "\n",
    "Using AstLookupVisitor we can introspect NMODL constructs at any level of details. Below are some examples to find out different constructs in the example mod file:"
   ]
  },
  {
   "cell_type": "code",
   "execution_count": null,
   "metadata": {},
   "outputs": [],
   "source": [
    "odes = lookup_visitor.lookup(modast, ast.AstNodeType.DIFF_EQ_EXPRESSION)\n",
    "primes = lookup_visitor.lookup(modast, ast.AstNodeType.PRIME_NAME)\n",
    "range_vars = lookup_visitor.lookup(modast, ast.AstNodeType.RANGE_VAR)\n",
    "parameters = lookup_visitor.lookup(modast, ast.AstNodeType.PARAM_ASSIGN)\n",
    "units = lookup_visitor.lookup(modast, ast.AstNodeType.UNIT)\n",
    "\n",
    "if odes:\n",
    "    print(\"%d differential equation(s) exist : \" % len(odes))\n",
    "    for ode in odes:\n",
    "        print (\"\\t %s \" % nmodl.to_nmodl(ode))\n",
    "    \n",
    "if primes:\n",
    "    print(\"%d prime variables exist :\" % len(primes), end='')\n",
    "    for prime in primes:\n",
    "        print (\" %s\" % nmodl.to_nmodl(prime), end='')\n",
    "    print()\n",
    "\n",
    "if range_vars:\n",
    "    print(\"%d range variables exist :\" % len(range_vars), end='')\n",
    "    for range_var in range_vars:\n",
    "        print (\" %s\" % nmodl.to_nmodl(range_var), end='')\n",
    "    print()\n",
    "\n",
    "if parameters:\n",
    "    print(\"%d parameter variables exist :\" % len(parameters), end='')\n",
    "    for range_var in range_vars:\n",
    "        print (\" %s\" % nmodl.to_nmodl(range_var), end='')\n",
    "    print()\n",
    "    \n",
    "if units:\n",
    "    print(\"%d units uses :\" % len(units), end='')\n",
    "    for unit in units:\n",
    "        print (\" %s\" % nmodl.to_nmodl(unit), end='')"
   ]
  },
  {
   "cell_type": "markdown",
   "metadata": {},
   "source": [
    "Apart from performing lookup on whole AST object (i.e. entire NMODL file), we can perform analysis on the specific construct. Lets take a synthetic example : say we want to find out all assignment statements in function `foo`. If we use lookup visitor on AST, it will returnn all statements in the mod file (e.g. including DERIVATIVE block). To avoid this, we can first find FUNCTION blocks and then search for statements within that block :"
   ]
  },
  {
   "cell_type": "code",
   "execution_count": null,
   "metadata": {},
   "outputs": [],
   "source": [
    "functions = lookup_visitor.lookup(modast, ast.AstNodeType.FUNCTION_BLOCK)\n",
    "function = functions[0] # first function\n",
    "\n",
    "# expression statements include assignments\n",
    "new_lookup_visitor = visitor.AstLookupVisitor(ast.AstNodeType.EXPRESSION_STATEMENT)\n",
    "\n",
    "# using accept method of node\n",
    "function.accept(new_lookup_visitor)\n",
    "statements = new_lookup_visitor.get_nodes()\n",
    "\n",
    "for statement in statements:\n",
    "    print (nmodl.to_nmodl(statement))"
   ]
  },
  {
   "cell_type": "markdown",
   "metadata": {},
   "source": [
    "Every AST node provides `accept` method that takes visitor object as parameter. In above example, we used `accept` method of `FunctionBock` node. This allows to run a given visitor on a specific node. `AstLookupVisitor` provides `get_nodes()` method that can be used to retrive the result of visitor. List of all `AstNodeType` can be found [here (todo)](####)."
   ]
  },
  {
   "cell_type": "markdown",
   "metadata": {},
   "source": [
    "#### Symbol Table Visitor\n",
    "\n",
    "Symbol table visitor is used to find out all variables and their usage in mod file. To use this, first create a visitor object as: "
   ]
  },
  {
   "cell_type": "code",
   "execution_count": null,
   "metadata": {},
   "outputs": [],
   "source": [
    "from nmodl.dsl import symtab\n",
    "\n",
    "symv = symtab.SymtabVisitor()"
   ]
  },
  {
   "cell_type": "markdown",
   "metadata": {},
   "source": [
    "Once the visitor object is created, we can run visitor on AST object to populate symbol table. Symbol table provides print method that can be used to print whole symbol table : "
   ]
  },
  {
   "cell_type": "code",
   "execution_count": null,
   "metadata": {},
   "outputs": [],
   "source": [
    "symv.visit_program(modast)\n",
    "table = modast.get_symbol_table()\n",
    "table_s = str(table)\n",
    "\n",
    "print (table_s)"
   ]
  },
  {
   "cell_type": "markdown",
   "metadata": {},
   "source": [
    "Now we can query for variables in the symbol table based on name of variable: "
   ]
  },
  {
   "cell_type": "code",
   "execution_count": null,
   "metadata": {},
   "outputs": [],
   "source": [
    "cai = table.lookup('cai')\n",
    "print (cai)"
   ]
  },
  {
   "cell_type": "markdown",
   "metadata": {},
   "source": [
    "When we print the symbol, all it's properties get printed. For example, in above case the `cai` variable is used in :\n",
    "* differential equation (prime)\n",
    "* state block\n",
    "* assigned block\n",
    "* use ion statement\n",
    "\n",
    "We can also query based on the kind of variables. For example, to find out all range variables we can use `get_variables_with_properties` method with symbol property as an argument:"
   ]
  },
  {
   "cell_type": "code",
   "execution_count": null,
   "metadata": {},
   "outputs": [],
   "source": [
    "range_vars = table.get_variables_with_properties(symtab.NmodlType.range_var)\n",
    "for var in range_vars:\n",
    "    print (var)"
   ]
  },
  {
   "cell_type": "markdown",
   "metadata": {},
   "source": [
    "We can also query with  multiple properties. For example, to find out read or write ion variables we can use (second argument `False` indicates any one property):"
   ]
  },
  {
   "cell_type": "code",
   "execution_count": null,
   "metadata": {},
   "outputs": [],
   "source": [
    "ions_var = table.get_variables_with_properties(symtab.NmodlType.read_ion_var | symtab.NmodlType.write_ion_var, False)\n",
    "for var in ions_var:\n",
    "    print (var)"
   ]
  },
  {
   "cell_type": "markdown",
   "metadata": {},
   "source": [
    "#### Custom AST visitor\n",
    "\n",
    "If predefined visitors are limited, we can implement new visitor using AstVisitor interface. Lets say we want to implement a visitor that will print every floating point number in MOD file. Here is how we can do this: "
   ]
  },
  {
   "cell_type": "code",
   "execution_count": null,
   "metadata": {},
   "outputs": [],
   "source": [
    "from nmodl.dsl import ast, visitor\n",
    "\n",
    "class DoubleVisitor(visitor.AstVisitor):\n",
    "\n",
    "    def visit_double(self, node):\n",
    "        print (node.eval())  # or, can use nmodl.to_nmodl(node) \n",
    "        \n",
    "d_visitor = DoubleVisitor()\n",
    "modast.accept(d_visitor)"
   ]
  },
  {
   "cell_type": "markdown",
   "metadata": {},
   "source": [
    "The `AstVisitor` base class provides all necessary methods to traverse different ast nodes. New visitors will inherit from `AstVisitor` and implement only those method where we want different behaviour. For example, in the above case we want to visit ast nodes of type `Double` and print their value. To achieve this we implemented associated method of `Double` node i.e. `visit_double`. When we call `accept` method on the ast object, the entire AST tree will be visited (by `AstVisitor`). But whenever double node type will encounter in AST, the control will be handed back to `DoubleVisitor.visit_double` method. \n",
    "\n",
    "Lets implement the example of lookup visitor to print parameters with values :"
   ]
  },
  {
   "cell_type": "code",
   "execution_count": null,
   "metadata": {},
   "outputs": [],
   "source": [
    "class ParameterVisitor(visitor.AstVisitor):\n",
    "    \n",
    "    def __init__(self):\n",
    "        visitor.AstVisitor.__init__(self)\n",
    "        self.in_parameter = False\n",
    "        \n",
    "    def visit_param_block(self, node):\n",
    "        self.in_parameter = True\n",
    "        node.visit_children(self)\n",
    "        self.in_parameter = False\n",
    "\n",
    "    def visit_name(self, node):\n",
    "        if self.in_parameter:\n",
    "            print (nmodl.to_nmodl(node))\n",
    "            \n",
    "    def visit_double(self, node):\n",
    "        if self.in_parameter:\n",
    "            print (node.eval())\n",
    "\n",
    "    def visit_integer(self, node):\n",
    "        if self.in_parameter:\n",
    "            print (node.eval())\n",
    "\n",
    "param_visitor = ParameterVisitor()\n",
    "modast.accept(param_visitor)"
   ]
  }
 ],
 "metadata": {
  "kernelspec": {
   "display_name": "Python 3",
   "language": "python",
   "name": "python3"
  },
  "language_info": {
   "codemirror_mode": {
    "name": "ipython",
    "version": 3
   },
   "file_extension": ".py",
   "mimetype": "text/x-python",
   "name": "python",
   "nbconvert_exporter": "python",
   "pygments_lexer": "ipython3",
   "version": "3.7.2"
  }
 },
 "nbformat": 4,
 "nbformat_minor": 2
}
