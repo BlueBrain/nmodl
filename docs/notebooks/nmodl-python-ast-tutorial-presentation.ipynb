{
 "cells": [
  {
   "cell_type": "markdown",
   "metadata": {
    "slideshow": {
     "slide_type": "slide"
    }
   },
   "source": [
    "# NMODL Python Interface Tutorial\n",
    "\n",
    "## Visualization Library Setup"
   ]
  },
  {
   "cell_type": "code",
   "execution_count": 127,
   "metadata": {},
   "outputs": [],
   "source": [
    "import json\n",
    "\n",
    "from IPython.display import HTML, Javascript, display"
   ]
  },
  {
   "cell_type": "code",
   "execution_count": 128,
   "metadata": {},
   "outputs": [
    {
     "data": {
      "application/javascript": [
       "require.config({\n",
       "    paths: {\n",
       "        d3: \"https://cdnjs.cloudflare.com/ajax/libs/d3/3.5.5/d3.min\"\n",
       "     }\n",
       "});\n"
      ],
      "text/plain": [
       "<IPython.core.display.Javascript object>"
      ]
     },
     "metadata": {},
     "output_type": "display_data"
    }
   ],
   "source": [
    "%%javascript\n",
    "require.config({\n",
    "    paths: {\n",
    "        d3: \"https://cdnjs.cloudflare.com/ajax/libs/d3/3.5.5/d3.min\"\n",
    "     }\n",
    "});"
   ]
  },
  {
   "cell_type": "code",
   "execution_count": 129,
   "metadata": {},
   "outputs": [
    {
     "data": {
      "application/javascript": [
       "define('draw_tree', ['d3'], function(d3) {\n",
       "\n",
       "    /// draw d3 tree to given div container\n",
       "    function draw_ast(container, jsontree) {\n",
       "\n",
       "        // container margin\n",
       "        var margin = {\n",
       "            top: 20,\n",
       "            right: 20,\n",
       "            bottom: 20,\n",
       "            left: 20\n",
       "        };\n",
       "\n",
       "        /// diameter equal to container width (e.g. notebook cell)\n",
       "        var diameter = d3.select(container).node().getBoundingClientRect().width;\n",
       "\n",
       "        /// width / ehight for the box\n",
       "        var width = diameter;\n",
       "        var height = diameter;\n",
       "\n",
       "        /// animation duration\n",
       "        var duration = 200;\n",
       "\n",
       "        /// unique ids for nodes\n",
       "        var id = 0;\n",
       "\n",
       "        /// define tree layout\n",
       "        // see: https://d3-wiki.readthedocs.io/zh_CN/master/Tree-Layout/\n",
       "        var tree = d3.layout.tree()\n",
       "            .size([360, diameter / 2 - 80])\n",
       "            .separation(function(a, b) {\n",
       "                return (a.parent == b.parent ? 1 : 10) / a.depth;\n",
       "            });\n",
       "        var diagonal = d3.svg.diagonal.radial()\n",
       "            .projection(function(d) {\n",
       "                return [d.y, d.x / 180 * Math.PI];\n",
       "            });\n",
       "\n",
       "        /// create svg element inside container\n",
       "        var tree_svg = d3.select(container).append(\"svg\")\n",
       "            .attr(\"width\", width)\n",
       "            .attr(\"height\", height)\n",
       "            .append(\"g\")\n",
       "            .attr(\"transform\", \"translate(\" + diameter / 2 + \",\" + diameter / 2 + \")\");\n",
       "\n",
       "        /// start drawing tree\n",
       "        jsontree.x0 = width / 2;\n",
       "        jsontree.y0 = height / 2;\n",
       "        update(jsontree, tree_svg, jsontree);\n",
       "\n",
       "        /// toggle children state on click\n",
       "        function click(d, destnode, jsonroot) {\n",
       "            if (d.children) {\n",
       "                d._children = d.children;\n",
       "                d.children = null;\n",
       "            } else {\n",
       "                d.children = d._children;\n",
       "                d._children = null;\n",
       "            }\n",
       "            update(d, destnode, jsonroot);\n",
       "        }\n",
       "\n",
       "        /// collapse nodes on click\n",
       "        function collapse(d) {\n",
       "            if (d.children) {\n",
       "                d._children = d.children;\n",
       "                d._children.forEach(collapse);\n",
       "                d.children = null;\n",
       "            }\n",
       "        }\n",
       "\n",
       "        function update(source, destnode, jsonroot) {\n",
       "            /// compute the new tree layout\n",
       "            var nodes = tree.nodes(jsonroot);\n",
       "            var links = tree.links(nodes);\n",
       "\n",
       "            /// normalize for fixed-depth\n",
       "            nodes.forEach(function(d) {\n",
       "                d.y = d.depth * 80;\n",
       "            });\n",
       "\n",
       "            /// update the nodes\n",
       "            var node = destnode.selectAll(\"g.node\")\n",
       "                .data(nodes, function(d) {\n",
       "                    return d.id || (d.id = ++id);\n",
       "                });\n",
       "\n",
       "            /// enter any new nodes at the parent's previous position\n",
       "            var nodeEnter = node.enter().append(\"g\")\n",
       "                .attr(\"class\", \"node\")\n",
       "                .on(\"click\", function(d) {\n",
       "                    click(d, destnode, jsonroot);\n",
       "                });\n",
       "\n",
       "            nodeEnter.append(\"circle\")\n",
       "                .attr(\"r\", 1e-6)\n",
       "                .style(\"fill\", function(d) {\n",
       "                    return d._children ? \"lightsteelblue\" : \"#fff\";\n",
       "                });\n",
       "\n",
       "            nodeEnter.append(\"text\")\n",
       "                .attr(\"x\", 10)\n",
       "                .attr(\"dy\", \".55em\")\n",
       "                .attr(\"text-anchor\", \"start\")\n",
       "                .text(function(d) {\n",
       "                    return d.name;\n",
       "                })\n",
       "                .style(\"fill-opacity\", 1e-6);\n",
       "\n",
       "            /// transition nodes to their new position\n",
       "            var nodeUpdate = node.transition()\n",
       "                .duration(duration)\n",
       "                .attr(\"transform\", function(d) {\n",
       "                    return \"rotate(\" + (d.x - 90) + \")translate(\" + d.y + \")\";\n",
       "                })\n",
       "\n",
       "            nodeUpdate.select(\"circle\")\n",
       "                .attr(\"r\", 4.5)\n",
       "                .style(\"fill\", function(d) {\n",
       "                    return d._children ? \"lightsteelblue\" : \"#fff\";\n",
       "                });\n",
       "\n",
       "            nodeUpdate.select(\"text\")\n",
       "                .style(\"fill-opacity\", 1)\n",
       "                .attr(\"transform\", function(d) {\n",
       "                    return d.x < 180 ? \"translate(0)\" : \"rotate(180)translate(-\" + (d.name.length + 50) + \")\";\n",
       "                });\n",
       "\n",
       "            /// appropriate transform\n",
       "            var nodeExit = node.exit().transition()\n",
       "                .duration(duration)\n",
       "                .remove();\n",
       "\n",
       "            nodeExit.select(\"circle\")\n",
       "                .attr(\"r\", 1e-6);\n",
       "\n",
       "            nodeExit.select(\"text\")\n",
       "                .style(\"fill-opacity\", 1e-6);\n",
       "\n",
       "            /// update the links\n",
       "            var link = destnode.selectAll(\"path.link\")\n",
       "                .data(links, function(d) {\n",
       "                    return d.target.id;\n",
       "                });\n",
       "\n",
       "            /// enter any new links at the parent's previous position\n",
       "            link.enter().insert(\"path\", \"g\")\n",
       "                .attr(\"class\", \"link\")\n",
       "                .attr(\"d\", function(d) {\n",
       "                    var o = {\n",
       "                        x: source.x0,\n",
       "                        y: source.y0\n",
       "                    };\n",
       "                    return diagonal({\n",
       "                        source: o,\n",
       "                        target: o\n",
       "                    });\n",
       "                });\n",
       "\n",
       "            /// transition links to their new position\n",
       "            link.transition()\n",
       "                .duration(duration)\n",
       "                .attr(\"d\", diagonal);\n",
       "\n",
       "            /// transition exiting nodes to the parent's new position\n",
       "            link.exit().transition()\n",
       "                .duration(duration)\n",
       "                .attr(\"d\", function(d) {\n",
       "                    var o = {\n",
       "                        x: source.x,\n",
       "                        y: source.y\n",
       "                    };\n",
       "                    return diagonal({\n",
       "                        source: o,\n",
       "                        target: o\n",
       "                    });\n",
       "                })\n",
       "                .remove();\n",
       "\n",
       "            /// stash the old positions for transition\n",
       "            nodes.forEach(function(d) {\n",
       "                d.x0 = d.x;\n",
       "                d.y0 = d.y;\n",
       "            });\n",
       "        }\n",
       "\n",
       "    }\n",
       "\n",
       "    return draw_ast;\n",
       "});"
      ],
      "text/plain": [
       "<IPython.core.display.Javascript object>"
      ]
     },
     "execution_count": 129,
     "metadata": {},
     "output_type": "execute_result"
    }
   ],
   "source": [
    "Javascript(filename=\"tree.js\")"
   ]
  },
  {
   "cell_type": "code",
   "execution_count": 130,
   "metadata": {
    "collapsed": true
   },
   "outputs": [
    {
     "data": {
      "text/html": [
       "\n",
       "<style>\n",
       "\n",
       ".node {\n",
       "  cursor: pointer;\n",
       "}\n",
       "\n",
       ".node circle {\n",
       "  fill: #d49c9c;\n",
       "  stroke: #8c6666;\n",
       "  stroke-width: 1.5px;\n",
       "}\n",
       "\n",
       ".node text {\n",
       "  font-size: 11px !important;\n",
       "  font-family: sans-serif;\n",
       "  fill: #4545b5;\n",
       "}\n",
       "\n",
       ".link {\n",
       "  fill: none;\n",
       "  stroke: #efcece;\n",
       "  stroke: #efceed;\n",
       "  stroke-width: 2px;\n",
       "}\n",
       "\n",
       ".templink {\n",
       "  fill: none;\n",
       "  stroke: red;\n",
       "  stroke-width: 2px;\n",
       "}\n",
       "</style>\n"
      ],
      "text/plain": [
       "<IPython.core.display.HTML object>"
      ]
     },
     "execution_count": 130,
     "metadata": {},
     "output_type": "execute_result"
    }
   ],
   "source": [
    "HTML(\n",
    "    \"\"\"\n",
    "<style>\n",
    "\n",
    ".node {\n",
    "  cursor: pointer;\n",
    "}\n",
    "\n",
    ".node circle {\n",
    "  fill: #d49c9c;\n",
    "  stroke: #8c6666;\n",
    "  stroke-width: 1.5px;\n",
    "}\n",
    "\n",
    ".node text {\n",
    "  font-size: 11px !important;\n",
    "  font-family: sans-serif;\n",
    "  fill: #4545b5;\n",
    "}\n",
    "\n",
    ".link {\n",
    "  fill: none;\n",
    "  stroke: #efcece;\n",
    "  stroke: #efceed;\n",
    "  stroke-width: 2px;\n",
    "}\n",
    "\n",
    ".templink {\n",
    "  fill: none;\n",
    "  stroke: red;\n",
    "  stroke-width: 2px;\n",
    "}\n",
    "</style>\n",
    "\"\"\"\n",
    ")"
   ]
  },
  {
   "cell_type": "markdown",
   "metadata": {},
   "source": [
    "## Introduction\n",
    "\n",
    "NMODL is a code generation framework for NEURON Modeling Language. It is primarily designed to support optimised code generation backends for morphologically detailed neuron simulators. It provides high level Python interface that can be used for model introspection as well as performing various analysis on underlying model.\n",
    "\n",
    "The main goals of the NMODL framework are :\n",
    "\n",
    "* Support for full NMODL specification\n",
    "* Providing modular tools for lexing, parsing and analysis\n",
    "* Optimised code generation for modern architectures\n",
    "* Compatibility with exisiting simulators\n",
    "* Ability to implement new simulator backends with minimal efforts\n",
    "\n",
    "This tutorial provides introduction to python API with examples."
   ]
  },
  {
   "cell_type": "markdown",
   "metadata": {},
   "source": [
    "## Installation \n",
    "<a id='installation'></a> NMODL can be installed as CMake project or using python setuptools. See README.md for detailed installation instructions. For example :\n",
    "\n",
    "```bash\n",
    "python3 -m venv myenv\n",
    ". myenv/bin/activate\n",
    "pip3 install nmodl_source_directory/\n",
    "```\n",
    "\n",
    "With this you should have nmodl installed."
   ]
  },
  {
   "cell_type": "markdown",
   "metadata": {},
   "source": [
    "## Parsing Model And Constructing AST\n"
   ]
  },
  {
   "cell_type": "code",
   "execution_count": 131,
   "metadata": {},
   "outputs": [],
   "source": [
    "import nmodl.dsl as nmodl"
   ]
  },
  {
   "cell_type": "code",
   "execution_count": 132,
   "metadata": {},
   "outputs": [],
   "source": [
    "channel = \"\"\"\n",
    "NEURON  {\n",
    "    SUFFIX CaDynamics\n",
    "    USEION ca READ ica WRITE cai\n",
    "    RANGE decay, gamma, minCai, depth\n",
    "}\n",
    "\n",
    "UNITS   {\n",
    "    (mV) = (millivolt)\n",
    "    (mA) = (milliamp)\n",
    "    FARADAY = (faraday) (coulombs)\n",
    "    (molar) = (1/liter)\n",
    "    (mM) = (millimolar)\n",
    "    (um)    = (micron)\n",
    "}\n",
    "\n",
    "PARAMETER   {\n",
    "    gamma = 0.05 : percent of free calcium (not buffered)\n",
    "    decay = 80 (ms) : rate of removal of calcium\n",
    "    depth = 0.1 (um) : depth of shell\n",
    "    minCai = 1e-4 (mM)\n",
    "}\n",
    "\n",
    "ASSIGNED    {ica (mA/cm2)}\n",
    "\n",
    "INITIAL {\n",
    "    cai = minCai\n",
    "}\n",
    "\n",
    "STATE   {\n",
    "    cai (mM)\n",
    "}\n",
    "\n",
    "BREAKPOINT  { SOLVE states METHOD cnexp }\n",
    "\n",
    "DERIVATIVE states   {\n",
    "    cai' = -(10000)*(ica*gamma/(2*FARADAY*depth)) - (cai - minCai)/decay\n",
    "}\n",
    "\n",
    "FUNCTION foo() {\n",
    "    LOCAL temp\n",
    "    foo = 1.0 + gamma\n",
    "}\n",
    "\"\"\""
   ]
  },
  {
   "cell_type": "markdown",
   "metadata": {},
   "source": [
    "* Parse any valid NMODL constructs using `nmodl::NmodlDriver`\n",
    "* then use `parse_string` method"
   ]
  },
  {
   "cell_type": "code",
   "execution_count": 146,
   "metadata": {},
   "outputs": [],
   "source": [
    "driver = nmodl.NmodlDriver()\n",
    "modast = driver.parse_string(channel)"
   ]
  },
  {
   "cell_type": "markdown",
   "metadata": {},
   "source": [
    "If we simply print AST object, we can see JSON representation :"
   ]
  },
  {
   "cell_type": "code",
   "execution_count": 134,
   "metadata": {},
   "outputs": [
    {
     "name": "stdout",
     "output_type": "stream",
     "text": [
      "{\"Program\":[{\"NeuronBlock\":[{\"StatementBlock\":[{\"Suffix\":[{\"Name\":[{\"String\":[{\"name\":\"SUFFIX\"}]}]},\n"
     ]
    }
   ],
   "source": [
    "print(\"%.100s\" % modast)  # only first 100 characters\n",
    "import json\n",
    "\n",
    "json_data = json.loads(nmodl.to_json(modast, True))\n",
    "json_data_expand = json.loads(nmodl.to_json(modast, True, True))"
   ]
  },
  {
   "cell_type": "code",
   "execution_count": 135,
   "metadata": {},
   "outputs": [
    {
     "data": {
      "application/javascript": [
       "(function(element){\n",
       "                require(['draw_tree'], function(draw) { draw(element.get(0), {\"children\": [{\"children\": [{\"children\": [{\"children\": [{\"children\": [{\"children\": [{\"name\": \"SUFFIX\"}], \"name\": \"String\"}], \"name\": \"Name\"}, {\"children\": [{\"children\": [{\"name\": \"CaDynamics\"}], \"name\": \"String\"}], \"name\": \"Name\"}], \"name\": \"Suffix\"}, {\"children\": [{\"children\": [{\"children\": [{\"name\": \"ca\"}], \"name\": \"String\"}], \"name\": \"Name\"}, {\"children\": [{\"children\": [{\"children\": [{\"name\": \"ica\"}], \"name\": \"String\"}], \"name\": \"Name\"}], \"name\": \"ReadIonVar\"}, {\"children\": [{\"children\": [{\"children\": [{\"name\": \"cai\"}], \"name\": \"String\"}], \"name\": \"Name\"}], \"name\": \"WriteIonVar\"}], \"name\": \"Useion\"}, {\"children\": [{\"children\": [{\"children\": [{\"children\": [{\"name\": \"decay\"}], \"name\": \"String\"}], \"name\": \"Name\"}], \"name\": \"RangeVar\"}, {\"children\": [{\"children\": [{\"children\": [{\"name\": \"gamma\"}], \"name\": \"String\"}], \"name\": \"Name\"}], \"name\": \"RangeVar\"}, {\"children\": [{\"children\": [{\"children\": [{\"name\": \"minCai\"}], \"name\": \"String\"}], \"name\": \"Name\"}], \"name\": \"RangeVar\"}, {\"children\": [{\"children\": [{\"children\": [{\"name\": \"depth\"}], \"name\": \"String\"}], \"name\": \"Name\"}], \"name\": \"RangeVar\"}], \"name\": \"Range\"}], \"name\": \"StatementBlock\"}], \"name\": \"NeuronBlock\"}, {\"children\": [{\"children\": [{\"children\": [{\"children\": [{\"name\": \"mV\"}], \"name\": \"String\"}], \"name\": \"Unit\"}, {\"children\": [{\"children\": [{\"name\": \"millivolt\"}], \"name\": \"String\"}], \"name\": \"Unit\"}], \"name\": \"UnitDef\"}, {\"children\": [{\"children\": [{\"children\": [{\"name\": \"mA\"}], \"name\": \"String\"}], \"name\": \"Unit\"}, {\"children\": [{\"children\": [{\"name\": \"milliamp\"}], \"name\": \"String\"}], \"name\": \"Unit\"}], \"name\": \"UnitDef\"}, {\"children\": [{\"children\": [{\"children\": [{\"name\": \"FARADAY\"}], \"name\": \"String\"}], \"name\": \"Name\"}, {\"children\": [{\"children\": [{\"name\": \"faraday\"}], \"name\": \"String\"}], \"name\": \"Unit\"}, {\"children\": [{\"children\": [{\"name\": \"coulombs\"}], \"name\": \"String\"}], \"name\": \"Unit\"}], \"name\": \"FactorDef\"}, {\"children\": [{\"children\": [{\"children\": [{\"name\": \"molar\"}], \"name\": \"String\"}], \"name\": \"Unit\"}, {\"children\": [{\"children\": [{\"name\": \"1/liter\"}], \"name\": \"String\"}], \"name\": \"Unit\"}], \"name\": \"UnitDef\"}, {\"children\": [{\"children\": [{\"children\": [{\"name\": \"mM\"}], \"name\": \"String\"}], \"name\": \"Unit\"}, {\"children\": [{\"children\": [{\"name\": \"millimolar\"}], \"name\": \"String\"}], \"name\": \"Unit\"}], \"name\": \"UnitDef\"}, {\"children\": [{\"children\": [{\"children\": [{\"name\": \"um\"}], \"name\": \"String\"}], \"name\": \"Unit\"}, {\"children\": [{\"children\": [{\"name\": \"micron\"}], \"name\": \"String\"}], \"name\": \"Unit\"}], \"name\": \"UnitDef\"}], \"name\": \"UnitBlock\"}, {\"children\": [{\"children\": [{\"children\": [{\"children\": [{\"name\": \"gamma\"}], \"name\": \"String\"}], \"name\": \"Name\"}, {\"children\": [{\"name\": \"0.05\"}], \"name\": \"Double\"}], \"name\": \"ParamAssign\"}, {\"children\": [{\"children\": [{\"children\": [{\"name\": \"decay\"}], \"name\": \"String\"}], \"name\": \"Name\"}, {\"children\": [{\"name\": \"80\"}], \"name\": \"Integer\"}, {\"children\": [{\"children\": [{\"name\": \"ms\"}], \"name\": \"String\"}], \"name\": \"Unit\"}], \"name\": \"ParamAssign\"}, {\"children\": [{\"children\": [{\"children\": [{\"name\": \"depth\"}], \"name\": \"String\"}], \"name\": \"Name\"}, {\"children\": [{\"name\": \"0.1\"}], \"name\": \"Double\"}, {\"children\": [{\"children\": [{\"name\": \"um\"}], \"name\": \"String\"}], \"name\": \"Unit\"}], \"name\": \"ParamAssign\"}, {\"children\": [{\"children\": [{\"children\": [{\"name\": \"minCai\"}], \"name\": \"String\"}], \"name\": \"Name\"}, {\"children\": [{\"name\": \"0.0001\"}], \"name\": \"Double\"}, {\"children\": [{\"children\": [{\"name\": \"mM\"}], \"name\": \"String\"}], \"name\": \"Unit\"}], \"name\": \"ParamAssign\"}], \"name\": \"ParamBlock\"}, {\"children\": [{\"children\": [{\"children\": [{\"children\": [{\"name\": \"ica\"}], \"name\": \"String\"}], \"name\": \"Name\"}, {\"children\": [{\"children\": [{\"name\": \"mA/cm2\"}], \"name\": \"String\"}], \"name\": \"Unit\"}], \"name\": \"DependentDef\"}], \"name\": \"DependentBlock\"}, {\"children\": [{\"children\": [{\"children\": [{\"children\": [{\"children\": [{\"children\": [{\"children\": [{\"name\": \"cai\"}], \"name\": \"String\"}], \"name\": \"Name\"}], \"name\": \"VarName\"}, {\"children\": [{\"name\": \"=\"}], \"name\": \"BinaryOperator\"}, {\"children\": [{\"children\": [{\"children\": [{\"name\": \"minCai\"}], \"name\": \"String\"}], \"name\": \"Name\"}], \"name\": \"VarName\"}], \"name\": \"BinaryExpression\"}], \"name\": \"ExpressionStatement\"}], \"name\": \"StatementBlock\"}], \"name\": \"InitialBlock\"}, {\"children\": [{\"children\": [{\"children\": [{\"children\": [{\"name\": \"cai\"}], \"name\": \"String\"}], \"name\": \"Name\"}, {\"children\": [{\"children\": [{\"name\": \"mM\"}], \"name\": \"String\"}], \"name\": \"Unit\"}], \"name\": \"DependentDef\"}], \"name\": \"StateBlock\"}, {\"children\": [{\"children\": [{\"children\": [{\"children\": [{\"children\": [{\"children\": [{\"name\": \"states\"}], \"name\": \"String\"}], \"name\": \"Name\"}, {\"children\": [{\"children\": [{\"name\": \"cnexp\"}], \"name\": \"String\"}], \"name\": \"Name\"}], \"name\": \"SolveBlock\"}], \"name\": \"ExpressionStatement\"}], \"name\": \"StatementBlock\"}], \"name\": \"BreakpointBlock\"}, {\"children\": [{\"children\": [{\"children\": [{\"name\": \"states\"}], \"name\": \"String\"}], \"name\": \"Name\"}, {\"children\": [{\"children\": [{\"children\": [{\"children\": [{\"children\": [{\"children\": [{\"children\": [{\"name\": \"cai\"}], \"name\": \"String\"}, {\"children\": [{\"name\": \"1\"}], \"name\": \"Integer\"}], \"name\": \"PrimeName\"}], \"name\": \"VarName\"}, {\"children\": [{\"name\": \"=\"}], \"name\": \"BinaryOperator\"}, {\"children\": [{\"children\": [{\"children\": [{\"children\": [{\"children\": [{\"children\": [{\"name\": \"-\"}], \"name\": \"UnaryOperator\"}, {\"children\": [{\"children\": [{\"children\": [{\"name\": \"10000\"}], \"name\": \"Double\"}], \"name\": \"ParenExpression\"}], \"name\": \"WrappedExpression\"}], \"name\": \"UnaryExpression\"}, {\"children\": [{\"name\": \"*\"}], \"name\": \"BinaryOperator\"}, {\"children\": [{\"children\": [{\"children\": [{\"children\": [{\"children\": [{\"children\": [{\"children\": [{\"children\": [{\"children\": [{\"name\": \"ica\"}], \"name\": \"String\"}], \"name\": \"Name\"}], \"name\": \"VarName\"}, {\"children\": [{\"name\": \"*\"}], \"name\": \"BinaryOperator\"}, {\"children\": [{\"children\": [{\"children\": [{\"name\": \"gamma\"}], \"name\": \"String\"}], \"name\": \"Name\"}], \"name\": \"VarName\"}], \"name\": \"BinaryExpression\"}], \"name\": \"WrappedExpression\"}, {\"children\": [{\"name\": \"/\"}], \"name\": \"BinaryOperator\"}, {\"children\": [{\"children\": [{\"children\": [{\"children\": [{\"children\": [{\"children\": [{\"children\": [{\"name\": \"2\"}], \"name\": \"Double\"}, {\"children\": [{\"name\": \"*\"}], \"name\": \"BinaryOperator\"}, {\"children\": [{\"children\": [{\"children\": [{\"name\": \"FARADAY\"}], \"name\": \"String\"}], \"name\": \"Name\"}], \"name\": \"VarName\"}], \"name\": \"BinaryExpression\"}], \"name\": \"WrappedExpression\"}, {\"children\": [{\"name\": \"*\"}], \"name\": \"BinaryOperator\"}, {\"children\": [{\"children\": [{\"children\": [{\"name\": \"depth\"}], \"name\": \"String\"}], \"name\": \"Name\"}], \"name\": \"VarName\"}], \"name\": \"BinaryExpression\"}], \"name\": \"WrappedExpression\"}], \"name\": \"ParenExpression\"}], \"name\": \"WrappedExpression\"}], \"name\": \"BinaryExpression\"}], \"name\": \"WrappedExpression\"}], \"name\": \"ParenExpression\"}], \"name\": \"WrappedExpression\"}], \"name\": \"BinaryExpression\"}], \"name\": \"WrappedExpression\"}, {\"children\": [{\"name\": \"-\"}], \"name\": \"BinaryOperator\"}, {\"children\": [{\"children\": [{\"children\": [{\"children\": [{\"children\": [{\"children\": [{\"children\": [{\"children\": [{\"children\": [{\"name\": \"cai\"}], \"name\": \"String\"}], \"name\": \"Name\"}], \"name\": \"VarName\"}, {\"children\": [{\"name\": \"-\"}], \"name\": \"BinaryOperator\"}, {\"children\": [{\"children\": [{\"children\": [{\"name\": \"minCai\"}], \"name\": \"String\"}], \"name\": \"Name\"}], \"name\": \"VarName\"}], \"name\": \"BinaryExpression\"}], \"name\": \"WrappedExpression\"}], \"name\": \"ParenExpression\"}], \"name\": \"WrappedExpression\"}, {\"children\": [{\"name\": \"/\"}], \"name\": \"BinaryOperator\"}, {\"children\": [{\"children\": [{\"children\": [{\"name\": \"decay\"}], \"name\": \"String\"}], \"name\": \"Name\"}], \"name\": \"VarName\"}], \"name\": \"BinaryExpression\"}], \"name\": \"WrappedExpression\"}], \"name\": \"BinaryExpression\"}], \"name\": \"WrappedExpression\"}], \"name\": \"BinaryExpression\"}], \"name\": \"DiffEqExpression\"}], \"name\": \"ExpressionStatement\"}], \"name\": \"StatementBlock\"}], \"name\": \"DerivativeBlock\"}, {\"children\": [{\"children\": [{\"children\": [{\"name\": \"foo\"}], \"name\": \"String\"}], \"name\": \"Name\"}, {\"children\": [{\"children\": [{\"children\": [{\"children\": [{\"children\": [{\"name\": \"temp\"}], \"name\": \"String\"}], \"name\": \"Name\"}], \"name\": \"LocalVar\"}], \"name\": \"LocalListStatement\"}, {\"children\": [{\"children\": [{\"children\": [{\"children\": [{\"children\": [{\"name\": \"foo\"}], \"name\": \"String\"}], \"name\": \"Name\"}], \"name\": \"VarName\"}, {\"children\": [{\"name\": \"=\"}], \"name\": \"BinaryOperator\"}, {\"children\": [{\"children\": [{\"children\": [{\"name\": \"1\"}], \"name\": \"Double\"}, {\"children\": [{\"name\": \"+\"}], \"name\": \"BinaryOperator\"}, {\"children\": [{\"children\": [{\"children\": [{\"name\": \"gamma\"}], \"name\": \"String\"}], \"name\": \"Name\"}], \"name\": \"VarName\"}], \"name\": \"BinaryExpression\"}], \"name\": \"WrappedExpression\"}], \"name\": \"BinaryExpression\"}], \"name\": \"ExpressionStatement\"}], \"name\": \"StatementBlock\"}], \"name\": \"FunctionBlock\"}], \"name\": \"Program\"}) });\n",
       "           })(element);"
      ],
      "text/plain": [
       "<IPython.core.display.Javascript object>"
      ]
     },
     "execution_count": 135,
     "metadata": {},
     "output_type": "execute_result"
    }
   ],
   "source": [
    "Javascript(\n",
    "    \"\"\"(function(element){\n",
    "                require(['draw_tree'], function(draw) { draw(element.get(0), %s) });\n",
    "           })(element);\"\"\"\n",
    "    % json.dumps(json_data_expand)\n",
    ")"
   ]
  },
  {
   "cell_type": "markdown",
   "metadata": {},
   "source": [
    "## Querying AST object with Visitors\n",
    "\n",
    "NMODL visitor interface can be used from python!"
   ]
  },
  {
   "cell_type": "markdown",
   "metadata": {},
   "source": [
    "### The lookup visitor\n"
   ]
  },
  {
   "cell_type": "code",
   "execution_count": 136,
   "metadata": {},
   "outputs": [],
   "source": [
    "from nmodl.dsl import ast, visitor\n",
    "\n",
    "lookup_visitor = visitor.AstLookupVisitor()"
   ]
  },
  {
   "cell_type": "markdown",
   "metadata": {},
   "source": [
    "Assuming we have created AST object (as shown [here](#create-ast)), we can search for any NMODL construct in the AST using AstLookupVisitor. For example, to find out `STATE` block in the mod file, we can simply do:"
   ]
  },
  {
   "cell_type": "code",
   "execution_count": 137,
   "metadata": {},
   "outputs": [
    {
     "name": "stdout",
     "output_type": "stream",
     "text": [
      "STATE {\n",
      "    cai (mM)\n",
      "}\n"
     ]
    }
   ],
   "source": [
    "states = lookup_visitor.lookup(modast, ast.AstNodeType.STATE_BLOCK)\n",
    "for state in states:\n",
    "    print(nmodl.to_nmodl(state))"
   ]
  },
  {
   "cell_type": "markdown",
   "metadata": {},
   "source": [
    "Nested lookups:"
   ]
  },
  {
   "cell_type": "code",
   "execution_count": 139,
   "metadata": {},
   "outputs": [
    {
     "name": "stdout",
     "output_type": "stream",
     "text": [
      "foo = 1+gamma\n"
     ]
    }
   ],
   "source": [
    "functions = lookup_visitor.lookup(modast, ast.AstNodeType.FUNCTION_BLOCK)\n",
    "function = functions[0]  # first function\n",
    "\n",
    "# expression statements include assignments\n",
    "new_lookup_visitor = visitor.AstLookupVisitor(ast.AstNodeType.EXPRESSION_STATEMENT)\n",
    "\n",
    "# using accept method of node\n",
    "function.accept(new_lookup_visitor)\n",
    "statements = new_lookup_visitor.get_nodes()\n",
    "\n",
    "for statement in statements:\n",
    "    print(nmodl.to_nmodl(statement))"
   ]
  },
  {
   "cell_type": "markdown",
   "metadata": {},
   "source": [
    "### Symbol Table Visitor\n",
    "\n",
    "Symbol table visitor is used to find out all variables and their usage in mod file. To use this, first create a visitor object as: "
   ]
  },
  {
   "cell_type": "code",
   "execution_count": 140,
   "metadata": {},
   "outputs": [],
   "source": [
    "from nmodl.dsl import symtab\n",
    "\n",
    "symv = symtab.SymtabVisitor()"
   ]
  },
  {
   "cell_type": "markdown",
   "metadata": {},
   "source": [
    "Once the visitor object is created, we can run visitor on AST object to populate symbol table. Symbol table provides print method that can be used to print whole symbol table : "
   ]
  },
  {
   "cell_type": "code",
   "execution_count": 141,
   "metadata": {},
   "outputs": [
    {
     "name": "stdout",
     "output_type": "stream",
     "text": [
      "\n",
      "------------------------------------------------------------------------------------------------------------------------------\n",
      "|                              NMODL_GLOBAL [Program IN None] POSITION : UNKNOWN SCOPE : GLOBAL                              |\n",
      "------------------------------------------------------------------------------------------------------------------------------\n",
      "|   NAME   |                  PROPERTIES                   |  STATUS   |  LOCATION   |   VALUE    |  # READS   |  # WRITES   | \n",
      "------------------------------------------------------------------------------------------------------------------------------\n",
      "| ca       | ion                                           |           |     UNKNOWN |            |     0      |      0      | \n",
      "| ica      | dependent_def read_ion                        |           |     UNKNOWN |            |     0      |      0      | \n",
      "| cai      | prime_name dependent_def write_ion state_var  |           |     UNKNOWN |            |     0      |      0      | \n",
      "| decay    | range parameter                               |           |     UNKNOWN |  80.000000 |     0      |      0      | \n",
      "| gamma    | range parameter                               |           |     UNKNOWN |   0.050000 |     0      |      0      | \n",
      "| minCai   | range parameter                               |           |     UNKNOWN |   0.000100 |     0      |      0      | \n",
      "| depth    | range parameter                               |           |     UNKNOWN |   0.100000 |     0      |      0      | \n",
      "| mV       | unit_def                                      |           |     UNKNOWN |            |     0      |      0      | \n",
      "| mA       | unit_def                                      |           |     UNKNOWN |            |     0      |      0      | \n",
      "| FARADAY  | factor_def                                    |           |     11.5-11 |            |     0      |      0      | \n",
      "| molar    | unit_def                                      |           |     UNKNOWN |            |     0      |      0      | \n",
      "| mM       | unit_def                                      |           |     UNKNOWN |            |     0      |      0      | \n",
      "| um       | unit_def                                      |           |     UNKNOWN |            |     0      |      0      | \n",
      "| states   | derivative_block to_solve                     |           |     36.1-10 |            |     0      |      0      | \n",
      "| foo      | function_block                                |           |      40.1-8 |            |     0      |      0      | \n",
      "------------------------------------------------------------------------------------------------------------------------------\n",
      "\n",
      "    --------------------------------------------------------------------------------------------------\n",
      "    |             StatementBlock4 [StatementBlock IN foo] POSITION : 40.16 SCOPE : LOCAL             |\n",
      "    --------------------------------------------------------------------------------------------------\n",
      "    |   NAME   |   PROPERTIES   |   STATUS   |   LOCATION   |   VALUE   |   # READS   |   # WRITES   | \n",
      "    --------------------------------------------------------------------------------------------------\n",
      "    | temp     | local          |            |      UNKNOWN |           |      0      |      0       | \n",
      "    --------------------------------------------------------------------------------------------------\n",
      "\n"
     ]
    }
   ],
   "source": [
    "symv.visit_program(modast)\n",
    "table = modast.get_symbol_table()\n",
    "table_s = str(table)\n",
    "\n",
    "print(table_s)"
   ]
  },
  {
   "cell_type": "markdown",
   "metadata": {},
   "source": [
    "### Custom AST visitor\n",
    "\n",
    "If predefined visitors are limited, we can implement new visitor using AstVisitor interface. Lets say we want to implement a visitor that will print every floating point number in MOD file. Here is how we can do this: "
   ]
  },
  {
   "cell_type": "code",
   "execution_count": 142,
   "metadata": {},
   "outputs": [
    {
     "name": "stdout",
     "output_type": "stream",
     "text": [
      "0.05\n",
      "0.1\n",
      "0.0001\n",
      "10000.0\n",
      "2.0\n",
      "1.0\n"
     ]
    }
   ],
   "source": [
    "from nmodl.dsl import ast, visitor\n",
    "\n",
    "\n",
    "class DoubleVisitor(visitor.AstVisitor):\n",
    "    def visit_double(self, node):\n",
    "        print(node.eval())  # or, can use nmodl.to_nmodl(node)\n",
    "\n",
    "\n",
    "d_visitor = DoubleVisitor()\n",
    "modast.accept(d_visitor)"
   ]
  },
  {
   "cell_type": "markdown",
   "metadata": {},
   "source": [
    "The `AstVisitor` base class provides all necessary methods to traverse different ast nodes. New visitors will inherit from `AstVisitor` and implement only those method where we want different behaviour. For example, in the above case we want to visit ast nodes of type `Double` and print their value. To achieve this we implemented associated method of `Double` node i.e. `visit_double`. When we call `accept` method on the ast object, the entire AST tree will be visited (by `AstVisitor`). But whenever double node type will encounter in AST, the control will be handed back to `DoubleVisitor.visit_double` method. \n",
    "\n",
    "Lets implement the example of lookup visitor to print parameters with values :"
   ]
  },
  {
   "cell_type": "code",
   "execution_count": 144,
   "metadata": {},
   "outputs": [
    {
     "name": "stdout",
     "output_type": "stream",
     "text": [
      "gamma: 0.05\n",
      "decay: 80\n",
      "depth: 0.1\n",
      "minCai: 0.0001\n"
     ]
    }
   ],
   "source": [
    "class ParameterVisitor(visitor.AstVisitor):\n",
    "    def __init__(self):\n",
    "        visitor.AstVisitor.__init__(self)\n",
    "        self.in_parameter = False\n",
    "\n",
    "    def visit_param_block(self, node):\n",
    "        self.in_parameter = True\n",
    "        node.visit_children(self)\n",
    "        self.in_parameter = False\n",
    "\n",
    "    def visit_name(self, node):\n",
    "        if self.in_parameter:\n",
    "            print(nmodl.to_nmodl(node)+\": \",end='')\n",
    "\n",
    "    def visit_double(self, node):\n",
    "        if self.in_parameter:\n",
    "            print(node.eval())\n",
    "\n",
    "    def visit_integer(self, node):\n",
    "        if self.in_parameter:\n",
    "            print(node.eval())\n",
    "\n",
    "\n",
    "param_visitor = ParameterVisitor()\n",
    "modast.accept(param_visitor)"
   ]
  },
  {
   "cell_type": "markdown",
   "metadata": {},
   "source": []
  },
  {
   "cell_type": "code",
   "execution_count": 145,
   "metadata": {
    "scrolled": true
   },
   "outputs": [],
   "source": [
    "mfunc_src = \"\"\"FUNCTION myfunc(x, y) {\n",
    "     if (x < y) {\n",
    "          myfunc = x + y\n",
    "     } else {\n",
    "          myfunc = y\n",
    "     }\n",
    "}\n",
    "\"\"\"\n",
    "import nmodl.dsl as nmodl\n",
    "from nmodl.dsl import ast\n",
    "\n",
    "driver = nmodl.NmodlDriver()\n",
    "mfunc_ast = driver.parse_string(mfunc_src)"
   ]
  },
  {
   "cell_type": "code",
   "execution_count": 124,
   "metadata": {},
   "outputs": [],
   "source": [
    "from nmodl.dsl import ast\n",
    "from nmodl.dsl import visitor\n",
    "\n",
    "class PyGenerator(visitor.AstVisitor):\n",
    "    def __init__(self):\n",
    "        visitor.AstVisitor.__init__(self)\n",
    "        self.pycode = ''\n",
    "        self.indent = 0\n",
    "        self.func_name = \"\"\n",
    "    \n",
    "    def visit_function_block(self, node):\n",
    "        params = []\n",
    "        self.func_name = node.get_node_name()\n",
    "        for p in node.parameters:\n",
    "            params.append(p.get_node_name())\n",
    "        params_str = \", \".join(params)\n",
    "        self.pycode += f\"def {node.get_node_name()}({params_str}):\\n\"\n",
    "        node.visit_children(self)\n",
    "    \n",
    "    def visit_statement_block(self, node):\n",
    "        self.indent += 1\n",
    "        node.visit_children(self)\n",
    "        self.indent -= 1\n",
    "    \n",
    "    def visit_expression_statement(self, node):\n",
    "        self.pycode += \" \"*4*self.indent\n",
    "        expr = node.expression\n",
    "        if type(expr) is ast.BinaryExpression and expr.op.eval() == \"=\":\n",
    "            rhs = expr.rhs\n",
    "            lhsn = expr.lhs.name.get_node_name()\n",
    "            if lhsn == self.func_name:\n",
    "                self.pycode += \"return \"\n",
    "                rhs.accept(self)\n",
    "            else:\n",
    "                node.visit_children(self)\n",
    "        else:\n",
    "            node.visit_children(self)\n",
    "        self.pycode += \"\\n\"\n",
    "\n",
    "    \n",
    "    def visit_if_statement(self, node):\n",
    "        self.pycode += \" \"*4*self.indent + \"if \"\n",
    "        node.condition.accept(self)\n",
    "        self.pycode += \":\\n\"\n",
    "        node.get_statement_block().accept(self)\n",
    "        for n in node.elseifs:\n",
    "            n.accept(self)\n",
    "        if node.elses:\n",
    "            node.elses.accept(self)\n",
    "\n",
    "    def visit_else_statement(self, node):\n",
    "        self.pycode += \" \"*4*self.indent + \"else:\\n\"\n",
    "        node.get_statement_block().accept(self)\n",
    "        \n",
    "    \n",
    "    def visit_binary_expression(self, node):\n",
    "        lhs = node.lhs\n",
    "        rhs = node.rhs\n",
    "        op = node.op.eval()\n",
    "        if op == \"^\":\n",
    "            self.pycode += \"pow(\"\n",
    "            lhs.accept(self)\n",
    "            self.pycode += \", \"\n",
    "            rhs.accept(self)\n",
    "            self.pycode += \")\"\n",
    "        else:\n",
    "            lhs.accept(self)\n",
    "            self.pycode += f\" {op} \"\n",
    "            rhs.accept(self)\n",
    "            \n",
    "    def visit_var_name(self, node):\n",
    "        self.pycode += node.name.get_node_name()\n",
    "    \n",
    "    def visit_integer(self, node):\n",
    "        self.pycode += nmod.to_nmodl(node)\n",
    "    \n",
    "    def visit_double(self, node):\n",
    "        self.pycode += nmodl.to_nmodl(node)"
   ]
  },
  {
   "cell_type": "code",
   "execution_count": 125,
   "metadata": {},
   "outputs": [
    {
     "name": "stdout",
     "output_type": "stream",
     "text": [
      "def myfunc(x, y):\n",
      "    if x < y:\n",
      "        return x + y\n",
      "    else:\n",
      "        return y\n",
      "\n"
     ]
    }
   ],
   "source": [
    "pygen = PyGenerator()\n",
    "pygen.visit_program(mfunc_ast)\n",
    "print(pygen.pycode)"
   ]
  },
  {
   "cell_type": "code",
   "execution_count": null,
   "metadata": {},
   "outputs": [],
   "source": []
  },
  {
   "cell_type": "code",
   "execution_count": null,
   "metadata": {},
   "outputs": [],
   "source": []
  }
 ],
 "metadata": {
  "kernelspec": {
   "display_name": "Python 3",
   "language": "python",
   "name": "python3"
  },
  "language_info": {
   "codemirror_mode": {
    "name": "ipython",
    "version": 3
   },
   "file_extension": ".py",
   "mimetype": "text/x-python",
   "name": "python",
   "nbconvert_exporter": "python",
   "pygments_lexer": "ipython3",
   "version": "3.6.7"
  }
 },
 "nbformat": 4,
 "nbformat_minor": 2
}
