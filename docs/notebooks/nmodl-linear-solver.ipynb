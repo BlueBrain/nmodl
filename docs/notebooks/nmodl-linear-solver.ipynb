{
 "cells": [
  {
   "cell_type": "markdown",
   "metadata": {},
   "source": [
    "### [wip] NMODL LINEAR solver\n",
    "\n",
    "`LINEAR` blocks contain a set of simultaneous equations.\n",
    "\n",
    "These are solved by `solve_lin_system` from [nmodl/ode.py](https://github.com/BlueBrain/nmodl/blob/master/nmodl/ode.py#L143).\n",
    "\n",
    "If the system is sufficiently small (by default $N\\leq3$), then Gaussian Elimination is used to directly construct the solution at compile time using SymPy to do the symbolic Gaussian Elimination.\n",
    "\n",
    "Otherwise  at run time by LU factorization with partial pivoting."
   ]
  },
  {
   "cell_type": "code",
   "execution_count": null,
   "metadata": {},
   "outputs": [],
   "source": []
  }
 ],
 "metadata": {
  "kernelspec": {
   "display_name": "Python 3",
   "language": "python",
   "name": "python3"
  },
  "language_info": {
   "codemirror_mode": {
    "name": "ipython",
    "version": 3
   },
   "file_extension": ".py",
   "mimetype": "text/x-python",
   "name": "python",
   "nbconvert_exporter": "python",
   "pygments_lexer": "ipython3",
   "version": "3.7.2"
  }
 },
 "nbformat": 4,
 "nbformat_minor": 2
}
